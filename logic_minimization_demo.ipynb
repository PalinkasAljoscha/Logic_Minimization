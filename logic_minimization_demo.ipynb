{
 "cells": [
  {
   "cell_type": "code",
   "execution_count": 2,
   "metadata": {},
   "outputs": [],
   "source": [
    "import string\n",
    "import random\n",
    "# import the algorithm and helper methods\n",
    "import logicfun as lf"
   ]
  },
  {
   "cell_type": "markdown",
   "metadata": {},
   "source": [
    "### Multivalued logic: Generate a random expression and  use the logicfun algorithm to minimize\n",
    "\n",
    "\n",
    "\n",
    "TODO: add info about number of prime implicants"
   ]
  },
  {
   "cell_type": "code",
   "execution_count": 30,
   "metadata": {},
   "outputs": [
    {
     "name": "stdout",
     "output_type": "stream",
     "text": [
      "random multivalued logical expression generated: \n",
      "---------------\n",
      " D<=0 and B==2 and D<=3 and not C<=2 and not A==0 or not B<=3 or not A>=1 or not C==0 and not E==3 and D<2 and not E<=2 or not E<=4 and D<3  \n",
      "---------------\n",
      "with value ranges:  A in {0,1}, B in {0,1,2,3}, C in {0,1,2}, D in {0,1,2,3}, E in {0,1,2,3,4} \n",
      "\n",
      "calculating minimal equivalent form....done\n",
      "equivalent minimal logical expression: \n",
      "---------------\n",
      " C>=1 and D<=1 and E==4 or A==0 \n",
      "---------------\n",
      "Wall time: 3.38 s\n"
     ]
    }
   ],
   "source": [
    "%%time\n",
    "number_of_variables =  5 # !!! more then 4 can result in long runtime, more then 5 in very long\n",
    "expr, maxvals = lf.random_multi_expression(number_of_variables)\n",
    "print(\"random multivalued logical expression generated: \\n---------------\\n\", expr, \"\\n---------------\")\n",
    "print(\"with value ranges: \", \", \".join([k+\" in {\"+\",\".join([str(i) for i in range(v+1)])+\"}\" \n",
    "                                        for k,v, in maxvals.items()]),\"\\n\")\n",
    "print(\"calculating minimal equivalent form....\", end=\"\")\n",
    "minexpr = lf.minexpr(expr, maxvals)\n",
    "print(\"done\")\n",
    "print(\"equivalent minimal logical expression: \\n---------------\\n\", minexpr, \"\\n---------------\")"
   ]
  },
  {
   "cell_type": "code",
   "execution_count": 55,
   "metadata": {},
   "outputs": [],
   "source": [
    "## TODO: statistic on runtime"
   ]
  },
  {
   "cell_type": "code",
   "execution_count": null,
   "metadata": {},
   "outputs": [],
   "source": [
    "## boolean minimization"
   ]
  },
  {
   "cell_type": "code",
   "execution_count": 56,
   "metadata": {},
   "outputs": [],
   "source": [
    "## demo of subfunctions"
   ]
  }
 ],
 "metadata": {
  "kernelspec": {
   "display_name": "Python 3",
   "language": "python",
   "name": "python3"
  },
  "language_info": {
   "codemirror_mode": {
    "name": "ipython",
    "version": 3
   },
   "file_extension": ".py",
   "mimetype": "text/x-python",
   "name": "python",
   "nbconvert_exporter": "python",
   "pygments_lexer": "ipython3",
   "version": "3.8.5"
  }
 },
 "nbformat": 4,
 "nbformat_minor": 4
}
